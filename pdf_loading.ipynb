{
 "cells": [
  {
   "cell_type": "code",
   "execution_count": 3,
   "metadata": {},
   "outputs": [],
   "source": [
    "from langchain_community.document_loaders import PyPDFLoader\n",
    "from langchain.text_splitter import RecursiveCharacterTextSplitter\n",
    "from dotenv import load_dotenv\n",
    "import os, sys"
   ]
  },
  {
   "cell_type": "code",
   "execution_count": 4,
   "metadata": {},
   "outputs": [],
   "source": [
    "dir = os.listdir('pdfs/')\n",
    "documents = []\n",
    "for file in dir:\n",
    "    documents.append(PyPDFLoader(f\"pdfs/{file}\").load_and_split())"
   ]
  },
  {
   "cell_type": "code",
   "execution_count": 5,
   "metadata": {},
   "outputs": [],
   "source": [
    "text_splitter = RecursiveCharacterTextSplitter(chunk_size=1000, chunk_overlap=100, separators=[\"\\n\\n\",\"\\n\",\".\",\" \",\"\"])\n",
    "docs = []\n",
    "for doc in documents:\n",
    "    docs.append(text_splitter.split_documents(doc))"
   ]
  },
  {
   "attachments": {},
   "cell_type": "markdown",
   "metadata": {},
   "source": [
    "The format of the docs list is like follows:\n",
    "\n",
    "```[[Document1, Document2, Document3]]```\n",
    "\n",
    "FAISS expects a format like so:\n",
    "\n",
    "```[Document1, Document2, Document3]```"
   ]
  },
  {
   "cell_type": "code",
   "execution_count": 18,
   "metadata": {},
   "outputs": [],
   "source": [
    "#new_docs will have the format needed for FAISS\n",
    "new_docs = []\n",
    "for i in docs:\n",
    "    for j in i:\n",
    "        new_docs.append(j)"
   ]
  },
  {
   "cell_type": "code",
   "execution_count": 21,
   "metadata": {},
   "outputs": [],
   "source": [
    "from langchain_community.embeddings import SentenceTransformerEmbeddings\n",
    "from langchain_community.vectorstores import FAISS\n",
    "\n",
    "embedding_model = SentenceTransformerEmbeddings(model_name=\"all-mpnet-base-v2\")\n",
    "vectorstore = FAISS.from_documents(new_docs, embedding_model)\n",
    "vectorstore.save_local(\"vectors_pdf\")"
   ]
  }
 ],
 "metadata": {
  "kernelspec": {
   "display_name": "Python 3",
   "language": "python",
   "name": "python3"
  },
  "language_info": {
   "codemirror_mode": {
    "name": "ipython",
    "version": 3
   },
   "file_extension": ".py",
   "mimetype": "text/x-python",
   "name": "python",
   "nbconvert_exporter": "python",
   "pygments_lexer": "ipython3",
   "version": "3.11.1"
  },
  "orig_nbformat": 4
 },
 "nbformat": 4,
 "nbformat_minor": 2
}
